{
 "cells": [
  {
   "cell_type": "code",
   "execution_count": 1,
   "metadata": {},
   "outputs": [],
   "source": [
    "import pandas as pd"
   ]
  },
  {
   "cell_type": "markdown",
   "metadata": {},
   "source": [
    "## CARREGA O BANCO DE DADOS"
   ]
  },
  {
   "cell_type": "code",
   "execution_count": 2,
   "metadata": {
    "scrolled": false
   },
   "outputs": [],
   "source": [
    "# Carrega o banco de dados e exclui os dados desnecessários\n",
    "df = pd.read_csv(\"bitstampUSD_1-min_data_2012-01-01_to_2020-09-14.csv\")\n",
    "df_copy = df.copy()\n",
    "candlestick_df = df_copy.drop([\"Volume_(BTC)\", \"Volume_(Currency)\", \"Weighted_Price\"], axis=1).dropna()\n",
    "candlestick_df[\"Timestamp\"] = pd.to_datetime(candlestick_df[\"Timestamp\"], unit='s')\n",
    "candlestick_df.set_index(\"Timestamp\", inplace=True)"
   ]
  },
  {
   "cell_type": "markdown",
   "metadata": {},
   "source": [
    "## DEFINE O PERÍODO"
   ]
  },
  {
   "cell_type": "code",
   "execution_count": 6,
   "metadata": {},
   "outputs": [],
   "source": [
    "# Período definido pelo usuário via argumentos de linha de comando\n",
    "dia_inicio = \"2019/12/31\"\n",
    "dia_fim = \"2019/12/31\"\n",
    "\n",
    "datetime_inicio = pd.to_datetime(dia_inicio)\n",
    "datetime_fim = pd.to_datetime(dia_fim) + pd.DateOffset(1)\n",
    "\n",
    "dados_selecionados = candlestick_df[(candlestick_df.index >= datetime_inicio) &\n",
    "                                  (candlestick_df.index <= datetime_fim)]"
   ]
  },
  {
   "cell_type": "markdown",
   "metadata": {},
   "source": [
    "## MÉDIAS MÓVEIS EXPONENCIAIS"
   ]
  },
  {
   "cell_type": "code",
   "execution_count": null,
   "metadata": {},
   "outputs": [],
   "source": [
    "# Cálculo do atenuador K\n",
    "periodos10 = 10\n",
    "k10 = (2 / (periodos10 + 1))\n",
    "periodos30 = 30\n",
    "k30 = (2 / (periodos30 + 1))\n",
    "\n",
    "# Cálculo das médias móveis exponenciais utilizando o método ewm com a função mean()\n",
    "mme10 = dados_selecionados[\"Close\"].ewm(alpha=k10, adjust=False).mean()\n",
    "mme30 = dados_selecionados[\"Close\"].ewm(alpha=k30, adjust=False).mean()\n"
   ]
  },
  {
   "cell_type": "markdown",
   "metadata": {},
   "source": [
    "## PLOTAR GRÁFICO"
   ]
  },
  {
   "cell_type": "code",
   "execution_count": null,
   "metadata": {},
   "outputs": [],
   "source": [
    "import plotly.graph_objects as go\n",
    "\n",
    "# Dicionários que servirão de parâmetros para plotar o gráfico das médias móveis exponenciais.\n",
    "\n",
    "candles_grafico = {\n",
    "    \"x\": dados_selecionados.index,\n",
    "    \"open\": dados_selecionados[\"Open\"],\n",
    "    \"close\": dados_selecionados[\"Close\"],\n",
    "    \"high\": dados_selecionados[\"High\"],\n",
    "    \"low\": dados_selecionados[\"Low\"],\n",
    "    \"type\": 'candlestick',\n",
    "    \"name\": 'BitCoin',\n",
    "    \"showlegend\": True\n",
    "}\n",
    "\n",
    "mme10_grafico = {\n",
    "    \"x\": dados_selecionados.index,\n",
    "    \"y\": mme10,\n",
    "    \"type\": 'scatter',\n",
    "    \"mode\": 'lines',\n",
    "    \"line\": {\n",
    "        \"width\": 1,\n",
    "        \"color\": 'blue'\n",
    "            },\n",
    "    \"name\": 'MME 10'\n",
    "}\n",
    "\n",
    "mme30_grafico = {\n",
    "    \"x\": dados_selecionados.index,\n",
    "    \"y\": mme30,\n",
    "    \"type\": 'scatter',\n",
    "    \"mode\": 'lines',\n",
    "    \"line\": {\n",
    "        \"width\": 1,\n",
    "        \"color\": 'red'\n",
    "            },\n",
    "    \"name\": 'MME 20'\n",
    "}\n",
    "\n",
    "dados_grafico = [candles_grafico, mme10_grafico, mme30_grafico]"
   ]
  },
  {
   "cell_type": "code",
   "execution_count": null,
   "metadata": {
    "scrolled": false
   },
   "outputs": [],
   "source": [
    "fig = go.Figure(data = dados_grafico)\n",
    "fig.update_layout(xaxis_rangeslider_visible=False)\n",
    "\n",
    "fig.show()"
   ]
  },
  {
   "cell_type": "markdown",
   "metadata": {},
   "source": [
    "## CRIAR PNG - MÉDIA MÓVEL EXPONENCIAL"
   ]
  },
  {
   "cell_type": "code",
   "execution_count": null,
   "metadata": {},
   "outputs": [],
   "source": [
    "import os\n",
    "\n",
    "if not os.path.exists(\"images\"):\n",
    "    os.mkdir(\"images\")\n",
    "\n",
    "fig.write_image(\"images/mme.png\", width=3840, height=2160)"
   ]
  },
  {
   "cell_type": "markdown",
   "metadata": {},
   "source": [
    "## BANDAS DE BOLLINGER"
   ]
  },
  {
   "cell_type": "code",
   "execution_count": null,
   "metadata": {},
   "outputs": [],
   "source": [
    "# Gera os dados para as Bandas de Bollinger utilizando o período definido pelo usuário\n",
    "# via argumentos de linha de comando.\n",
    "\n",
    "desvio_padrao = dados_selecionados[\"Close\"].rolling(window=20, min_periods=1).std()\n",
    "\n",
    "banda_mms = dados_selecionados[\"Close\"].rolling(window=20, min_periods=1).mean()\n",
    "banda_superior = banda_mms + (desvio_padrao * 2)\n",
    "banda_inferior = banda_mms - (desvio_padrao * 2)"
   ]
  },
  {
   "cell_type": "code",
   "execution_count": null,
   "metadata": {},
   "outputs": [],
   "source": [
    "# Dicionários que servirão de parâmetros para plotar o gráfico das Bandas de Bollinger.\n",
    "\n",
    "candles_grafico = {\n",
    "    \"x\": dados_selecionados.index,\n",
    "    \"open\": dados_selecionados[\"Open\"],\n",
    "    \"close\": dados_selecionados[\"Close\"],\n",
    "    \"high\": dados_selecionados[\"High\"],\n",
    "    \"low\": dados_selecionados[\"Low\"],\n",
    "    \"type\": 'candlestick',\n",
    "    \"name\": 'BitCoin',\n",
    "    \"showlegend\": True\n",
    "}\n",
    "\n",
    "banda_mms_grafico = {\n",
    "    \"x\": banda_mms.index,\n",
    "    \"y\": banda_mms,\n",
    "    \"type\": 'scatter',\n",
    "    \"mode\": 'lines',\n",
    "    \"line\": {\n",
    "        \"width\": 1,\n",
    "        \"color\": 'red'\n",
    "            },\n",
    "    \"name\": 'MÉDIA MÓVEL SIMPLES'\n",
    "}\n",
    "\n",
    "banda_superior_grafico = {\n",
    "    \"x\": banda_superior.index,\n",
    "    \"y\": banda_superior,\n",
    "    \"type\": 'scatter',\n",
    "    \"mode\": 'lines',\n",
    "    \"line\": {\n",
    "        \"width\": 1,\n",
    "        \"color\": 'black'\n",
    "            },\n",
    "    \"name\": 'BANDA SUPERIOR'\n",
    "}\n",
    "\n",
    "banda_inferior_grafico = {\n",
    "    \"x\": banda_inferior.index,\n",
    "    \"y\": banda_inferior,\n",
    "    \"type\": 'scatter',\n",
    "    \"mode\": 'lines',\n",
    "    \"fill\": 'tonexty',\n",
    "    \"line\": {\n",
    "        \"width\": 1,\n",
    "        \"color\": 'gray'\n",
    "            },\n",
    "    \"name\": 'BANDA INFERIOR'\n",
    "}\n",
    "\n",
    "\n",
    "dados_grafico = [candles_grafico, banda_mms_grafico, banda_superior_grafico, banda_inferior_grafico]"
   ]
  },
  {
   "cell_type": "code",
   "execution_count": null,
   "metadata": {},
   "outputs": [],
   "source": [
    "fig = go.Figure(data = dados_grafico)\n",
    "fig.update_layout(xaxis_rangeslider_visible=False)\n",
    "\n",
    "fig.show()"
   ]
  },
  {
   "cell_type": "markdown",
   "metadata": {},
   "source": [
    "## CRIAR PNG - BANDAS DE BOLLINGER"
   ]
  },
  {
   "cell_type": "code",
   "execution_count": null,
   "metadata": {},
   "outputs": [],
   "source": [
    "if not os.path.exists(\"images\"):\n",
    "    os.mkdir(\"images\")\n",
    "\n",
    "fig.write_image(\"images/bollinger.png\", width=3840, height=2160)"
   ]
  },
  {
   "cell_type": "markdown",
   "metadata": {},
   "source": [
    "## NUVEM DE ICHIMOKU"
   ]
  },
  {
   "cell_type": "code",
   "execution_count": null,
   "metadata": {},
   "outputs": [],
   "source": [
    "# Tenkan-sen (linha de conversão)\n",
    "tenkan_sen_max = dados_selecionados[\"High\"].rolling(window=9).max()\n",
    "tenkan_sen_min = dados_selecionados[\"Low\"].rolling(window=9).min()\n",
    "tenkan_sen = (tenkan_sen_max + tenkan_sen_min)*0.5\n",
    "\n",
    "# Kijun-sen (linha de base)\n",
    "kijun_sen_max = dados_selecionados[\"High\"].rolling(window=26).max()\n",
    "kijun_sen_min = dados_selecionados[\"Low\"].rolling(window=26).min()\n",
    "kijun_sen = (kijun_sen_max + kijun_sen_min)*0.5\n",
    "\n",
    "# Senkou Span A (período líder A)\n",
    "senkou_span_a = ((tenkan_sen + kijun_sen)*0.5).shift(26)\n",
    "\n",
    "# Senkou Span B (período líder B)\n",
    "senkou_span_b_max = dados_selecionados[\"High\"].rolling(window=52).max()\n",
    "senkou_span_b_min = dados_selecionados[\"Low\"].rolling(window=52).min()\n",
    "senkou_span_b = ((senkou_span_b_max + senkou_span_b_min)*0.5).shift(26)\n",
    "\n",
    "# Chikou Span (período de atraso)\n",
    "chikou_span = dados_selecionados[\"Close\"].shift(-26)"
   ]
  },
  {
   "cell_type": "code",
   "execution_count": null,
   "metadata": {},
   "outputs": [],
   "source": [
    "# Dicionários que servirão de parâmetros para plotar o gráfico da Nuvem de Ichimoku.\n",
    "\n",
    "candles_grafico = {\n",
    "    \"x\": dados_selecionados.index,\n",
    "    \"open\": dados_selecionados[\"Open\"],\n",
    "    \"close\": dados_selecionados[\"Close\"],\n",
    "    \"high\": dados_selecionados[\"High\"],\n",
    "    \"low\": dados_selecionados[\"Low\"],\n",
    "    \"type\": 'candlestick',\n",
    "    \"name\": 'BitCoin',\n",
    "    \"showlegend\": True\n",
    "}\n",
    "\n",
    "tenkan_sen_grafico = {\n",
    "    \"x\": tenkan_sen.index,\n",
    "    \"y\": tenkan_sen,\n",
    "    \"type\": 'scatter',\n",
    "    \"mode\": 'lines',\n",
    "    \"line\": {\n",
    "        \"width\": 1,\n",
    "        \"color\": 'blue'\n",
    "            },\n",
    "    \"name\": 'TENKAN SEN'\n",
    "}\n",
    "\n",
    "kijun_sen_grafico = {\n",
    "    \"x\": kijun_sen.index,\n",
    "    \"y\": kijun_sen,\n",
    "    \"type\": 'scatter',\n",
    "    \"mode\": 'lines',\n",
    "    \"line\": {\n",
    "        \"width\": 1,\n",
    "        \"color\": 'red'\n",
    "            },\n",
    "    \"name\": 'KIJUN_SEN'\n",
    "}\n",
    "\n",
    "senkou_span_a_grafico = {\n",
    "    \"x\": senkou_span_a.index,\n",
    "    \"y\": senkou_span_a,\n",
    "    \"type\": 'scatter',\n",
    "    \"mode\": 'lines',\n",
    "    \"line\": {\n",
    "        \"width\": 1,\n",
    "        \"color\": 'black'\n",
    "            },\n",
    "    \"name\": 'SENKOU SPAN A'\n",
    "}\n",
    "\n",
    "senkou_span_b_grafico = {\n",
    "    \"x\": senkou_span_b.index,\n",
    "    \"y\": senkou_span_b,\n",
    "    \"type\": 'scatter',\n",
    "    \"mode\": 'lines',\n",
    "    \"fill\": 'tonexty',\n",
    "    \"line\": {\n",
    "        \"width\": 1,\n",
    "        \"color\": 'gray'\n",
    "            },\n",
    "    \"name\": 'SENKOU SPAN B'\n",
    "}\n",
    "\n",
    "chikou_span_grafico = {\n",
    "    \"x\": chikou_span.index,\n",
    "    \"y\": chikou_span,\n",
    "    \"type\": 'scatter',\n",
    "    \"mode\": 'lines',\n",
    "    \"line\": {\n",
    "        \"width\": 1,\n",
    "        \"color\": 'gray'\n",
    "            },\n",
    "    \"name\": 'CHIKOU SPAN'\n",
    "}\n",
    "\n",
    "\n",
    "dados_grafico = [candles_grafico, tenkan_sen_grafico, kijun_sen_grafico, \n",
    "                 senkou_span_a_grafico, senkou_span_b_grafico, chikou_span_grafico]"
   ]
  },
  {
   "cell_type": "code",
   "execution_count": null,
   "metadata": {},
   "outputs": [],
   "source": [
    "fig = go.Figure(data = dados_grafico)\n",
    "fig.update_layout(xaxis_rangeslider_visible=False)\n",
    "\n",
    "fig.show()"
   ]
  },
  {
   "cell_type": "markdown",
   "metadata": {},
   "source": [
    "## CRIAR ARQUIVO PNG PARA NUVEM DE ICHIMOKU"
   ]
  },
  {
   "cell_type": "code",
   "execution_count": null,
   "metadata": {},
   "outputs": [],
   "source": [
    "if not os.path.exists(\"images\"):\n",
    "    os.mkdir(\"images\")\n",
    "\n",
    "fig.write_image(\"images/ichimoku.png\", width=3840, height=2160)"
   ]
  },
  {
   "cell_type": "markdown",
   "metadata": {},
   "source": [
    "## CRIAR O ARQUIVO CSV"
   ]
  },
  {
   "cell_type": "code",
   "execution_count": null,
   "metadata": {
    "scrolled": true
   },
   "outputs": [],
   "source": [
    "# Cria um dataframe com os dados solicitados no desafio.\n",
    "\n",
    "arquivo_saida = pd.DataFrame(data=[dados_selecionados.index, mme10, mme30, \n",
    "                                   banda_superior, banda_mms, banda_inferior,\n",
    "                                   tenkan_sen, kijun_sen, senkou_span_a, senkou_span_b, chikou_span]).T\n",
    "\n",
    "column_names = [\"timestamp\", \"indicador-0\", \"indicador-1\", \"indicador-2\", \"indicador-3\", \"indicador-4\", \n",
    "               \"indicador-5\", \"indicador-6\", \"indicador-7\", \"indicador-8\", \"indicador-9\"]\n",
    "\n",
    "# COLUNAS:\n",
    "# timestamp = Timestamp\n",
    "# indicador-0 = Média Móvel 10 Períodos\n",
    "# indicador-1 = Média Móvel 30 Períodos\n",
    "# indicador-2 = Bollinger - Banda Superior\n",
    "# indicador-3 = Bollinger - MMS\n",
    "# indicador-4 = Bollinger - Banda Inferior\n",
    "# indicador-5 = Ichimoku - Tenkan Sen\n",
    "# indicador-6 = Ichimoku - Kijun Sen\n",
    "# indicador-7 = Ichimoku - Senkou Span A\n",
    "# indicador-8 = Ichimoku - Senkou Span\n",
    "# indicador-9 = Ichimoku - Chikou Span\n",
    "\n",
    "# Altera os nomes das colunas de acordo com a lista column_names e organiza os dados para a saída CSV.\n",
    "\n",
    "for i in arquivo_saida.columns:\n",
    "    arquivo_saida[column_names[i]] = arquivo_saida[i]\n",
    "\n",
    "arquivo_saida.set_index(\"timestamp\", inplace=True)\n",
    "\n",
    "arquivo_saida = arquivo_saida.drop([0,1,2,3,4,5,6,7,8,9,10], axis=1)"
   ]
  },
  {
   "cell_type": "code",
   "execution_count": null,
   "metadata": {},
   "outputs": [],
   "source": [
    "compression_opts = dict(method=\"zip\", archive_name=\"indicadores.csv\")  \n",
    "arquivo_saida.to_csv(\"out.zip\", compression=compression_opts)  "
   ]
  },
  {
   "cell_type": "code",
   "execution_count": null,
   "metadata": {
    "scrolled": true
   },
   "outputs": [],
   "source": [
    "# output_df = pd.read_csv(\"indicadores.csv\")\n",
    "# output_df"
   ]
  },
  {
   "cell_type": "code",
   "execution_count": null,
   "metadata": {},
   "outputs": [],
   "source": []
  }
 ],
 "metadata": {
  "kernelspec": {
   "display_name": "Python 3",
   "language": "python",
   "name": "python3"
  },
  "language_info": {
   "codemirror_mode": {
    "name": "ipython",
    "version": 3
   },
   "file_extension": ".py",
   "mimetype": "text/x-python",
   "name": "python",
   "nbconvert_exporter": "python",
   "pygments_lexer": "ipython3",
   "version": "3.7.9"
  }
 },
 "nbformat": 4,
 "nbformat_minor": 4
}
